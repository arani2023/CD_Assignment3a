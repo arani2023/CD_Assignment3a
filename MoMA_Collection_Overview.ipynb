{
 "cells": [
  {
   "cell_type": "markdown",
   "id": "10f6d3b3",
   "metadata": {},
   "source": [
    "# MoMA Artworks Collection"
   ]
  },
  {
   "cell_type": "markdown",
   "id": "6198afcd",
   "metadata": {},
   "source": [
    "## About the Dataset"
   ]
  },
  {
   "cell_type": "markdown",
   "id": "4e236307",
   "metadata": {},
   "source": [
    "MoMA is an art museum located in New York City, the United States. The museum first acquired an artwork in 1929. Ever since, it has added to its collection a wide range of visual art, including painting, sculpture, photography, film, performance art, and other mediums.\n",
    "\n",
    "This artwork dataset contains 129,241 records, including all of the artworks that has been displayed at the MoMA's collection. This source of this datasets is provided by MoMA and are placed in the public domain using a CC0 License. MoMA requests that it is being acknowledged and give attribution to MoMA wherever possible.If the datasets is being used for a publication, MoMA requested to cite it using the digital object identifier DOI."
   ]
  },
  {
   "cell_type": "markdown",
   "id": "c52a4668",
   "metadata": {},
   "source": [
    "## Import Pandas"
   ]
  },
  {
   "cell_type": "markdown",
   "id": "652ef962",
   "metadata": {},
   "source": [
    "Let's explore this dataset! But first, we need to `import` the Pandas Library."
   ]
  },
  {
   "cell_type": "code",
   "execution_count": 3,
   "id": "81628b76",
   "metadata": {},
   "outputs": [],
   "source": [
    "import pandas as pd"
   ]
  },
  {
   "cell_type": "markdown",
   "id": "a2a2e964",
   "metadata": {},
   "source": [
    "## Get Data"
   ]
  },
  {
   "cell_type": "code",
   "execution_count": 4,
   "id": "8a2842d1",
   "metadata": {},
   "outputs": [],
   "source": [
    "artworks_df = pd.read_csv('../Pudding/Artworks.csv', delimiter=\",\", encoding='utf-8')"
   ]
  },
  {
   "cell_type": "markdown",
   "id": "d3ff0f94",
   "metadata": {},
   "source": [
    "## Overview"
   ]
  },
  {
   "cell_type": "code",
   "execution_count": 5,
   "id": "4d5b6abc",
   "metadata": {},
   "outputs": [
    {
     "data": {
      "text/html": [
       "<div>\n",
       "<style scoped>\n",
       "    .dataframe tbody tr th:only-of-type {\n",
       "        vertical-align: middle;\n",
       "    }\n",
       "\n",
       "    .dataframe tbody tr th {\n",
       "        vertical-align: top;\n",
       "    }\n",
       "\n",
       "    .dataframe thead th {\n",
       "        text-align: right;\n",
       "    }\n",
       "</style>\n",
       "<table border=\"1\" class=\"dataframe\">\n",
       "  <thead>\n",
       "    <tr style=\"text-align: right;\">\n",
       "      <th></th>\n",
       "      <th>Title</th>\n",
       "      <th>Artist</th>\n",
       "      <th>ConstituentID</th>\n",
       "      <th>ArtistBio</th>\n",
       "      <th>Nationality</th>\n",
       "      <th>BeginDate</th>\n",
       "      <th>EndDate</th>\n",
       "      <th>Gender</th>\n",
       "      <th>Date</th>\n",
       "      <th>Medium</th>\n",
       "      <th>...</th>\n",
       "      <th>ThumbnailURL</th>\n",
       "      <th>Circumference (cm)</th>\n",
       "      <th>Depth (cm)</th>\n",
       "      <th>Diameter (cm)</th>\n",
       "      <th>Height (cm)</th>\n",
       "      <th>Length (cm)</th>\n",
       "      <th>Weight (kg)</th>\n",
       "      <th>Width (cm)</th>\n",
       "      <th>Seat Height (cm)</th>\n",
       "      <th>Duration (sec.)</th>\n",
       "    </tr>\n",
       "  </thead>\n",
       "  <tbody>\n",
       "    <tr>\n",
       "      <th>119862</th>\n",
       "      <td>Banco de la Ciudad de Buenos Aires – Casa Matr...</td>\n",
       "      <td>Flora Manteola, Ignacio Petchersky, Javier Sán...</td>\n",
       "      <td>44160, 46152, 44161, 44162, 44163, 7229</td>\n",
       "      <td>(Argentine, born 1936) (Argentine) (Argentine,...</td>\n",
       "      <td>(Argentine) (Argentine) (Argentine) (Argentine...</td>\n",
       "      <td>(1936) (0) (1936) (1931) (1931) (1944)</td>\n",
       "      <td>(0) (0) (0) (0) (0) (0)</td>\n",
       "      <td>(Female) (Male) (Male) (Female) (Male) (Male)</td>\n",
       "      <td>1969</td>\n",
       "      <td>Pencil, ink, Letraset and collage on vellum</td>\n",
       "      <td>...</td>\n",
       "      <td>NaN</td>\n",
       "      <td>NaN</td>\n",
       "      <td>NaN</td>\n",
       "      <td>NaN</td>\n",
       "      <td>47.0000</td>\n",
       "      <td>NaN</td>\n",
       "      <td>NaN</td>\n",
       "      <td>131.000000</td>\n",
       "      <td>NaN</td>\n",
       "      <td>NaN</td>\n",
       "    </tr>\n",
       "    <tr>\n",
       "      <th>119157</th>\n",
       "      <td>Material Events from Performance Files</td>\n",
       "      <td>Milan Knížák</td>\n",
       "      <td>29427</td>\n",
       "      <td>(Czech, born 1940)</td>\n",
       "      <td>(Czech)</td>\n",
       "      <td>(1940)</td>\n",
       "      <td>(0)</td>\n",
       "      <td>(Male)</td>\n",
       "      <td>1977</td>\n",
       "      <td>Envelope, photocopy, and nine gelatin silver p...</td>\n",
       "      <td>...</td>\n",
       "      <td>http://www.moma.org/media/W1siZiIsIjI5NDgzNiJd...</td>\n",
       "      <td>NaN</td>\n",
       "      <td>0.0</td>\n",
       "      <td>NaN</td>\n",
       "      <td>0.0000</td>\n",
       "      <td>NaN</td>\n",
       "      <td>NaN</td>\n",
       "      <td>0.000000</td>\n",
       "      <td>NaN</td>\n",
       "      <td>NaN</td>\n",
       "    </tr>\n",
       "    <tr>\n",
       "      <th>61685</th>\n",
       "      <td>Untitled</td>\n",
       "      <td>Varvara Stepanova</td>\n",
       "      <td>5643</td>\n",
       "      <td>(Russian, 1894–1958)</td>\n",
       "      <td>(Russian)</td>\n",
       "      <td>(1894)</td>\n",
       "      <td>(1958)</td>\n",
       "      <td>(Female)</td>\n",
       "      <td>(1922)</td>\n",
       "      <td>Linocut</td>\n",
       "      <td>...</td>\n",
       "      <td>http://www.moma.org/media/W1siZiIsIjE5MTQ4OCJd...</td>\n",
       "      <td>NaN</td>\n",
       "      <td>NaN</td>\n",
       "      <td>NaN</td>\n",
       "      <td>9.2000</td>\n",
       "      <td>NaN</td>\n",
       "      <td>NaN</td>\n",
       "      <td>6.100000</td>\n",
       "      <td>NaN</td>\n",
       "      <td>NaN</td>\n",
       "    </tr>\n",
       "    <tr>\n",
       "      <th>23893</th>\n",
       "      <td>AUGUST (headpiece, page 47) from ALMANACH DES ...</td>\n",
       "      <td>Raoul Dufy</td>\n",
       "      <td>1646</td>\n",
       "      <td>(French, 1877–1953)</td>\n",
       "      <td>(French)</td>\n",
       "      <td>(1877)</td>\n",
       "      <td>(1953)</td>\n",
       "      <td>(Male)</td>\n",
       "      <td>1917</td>\n",
       "      <td>NaN</td>\n",
       "      <td>...</td>\n",
       "      <td>NaN</td>\n",
       "      <td>NaN</td>\n",
       "      <td>NaN</td>\n",
       "      <td>NaN</td>\n",
       "      <td>3.5000</td>\n",
       "      <td>NaN</td>\n",
       "      <td>NaN</td>\n",
       "      <td>8.900000</td>\n",
       "      <td>NaN</td>\n",
       "      <td>NaN</td>\n",
       "    </tr>\n",
       "    <tr>\n",
       "      <th>31725</th>\n",
       "      <td>Prostitute (Dirne)</td>\n",
       "      <td>Egon Schiele</td>\n",
       "      <td>5215</td>\n",
       "      <td>(Austrian, 1890–1918)</td>\n",
       "      <td>(Austrian)</td>\n",
       "      <td>(1890)</td>\n",
       "      <td>(1918)</td>\n",
       "      <td>(Male)</td>\n",
       "      <td>1912</td>\n",
       "      <td>Watercolor and pencil on paper</td>\n",
       "      <td>...</td>\n",
       "      <td>http://www.moma.org/media/W1siZiIsIjEyMjAxMiJd...</td>\n",
       "      <td>NaN</td>\n",
       "      <td>NaN</td>\n",
       "      <td>NaN</td>\n",
       "      <td>48.3000</td>\n",
       "      <td>NaN</td>\n",
       "      <td>NaN</td>\n",
       "      <td>31.750064</td>\n",
       "      <td>NaN</td>\n",
       "      <td>NaN</td>\n",
       "    </tr>\n",
       "    <tr>\n",
       "      <th>44615</th>\n",
       "      <td>4th Action</td>\n",
       "      <td>Rudolf Schwarzkogler, Franziska Krammel</td>\n",
       "      <td>7910, 39045</td>\n",
       "      <td>(Austrian, 1940–1969)</td>\n",
       "      <td>(Austrian) ()</td>\n",
       "      <td>(1940) (0)</td>\n",
       "      <td>(1969) (0)</td>\n",
       "      <td>(Male) (Female)</td>\n",
       "      <td>Summer 1965</td>\n",
       "      <td>Gelatin silver print, printed 1982</td>\n",
       "      <td>...</td>\n",
       "      <td>NaN</td>\n",
       "      <td>NaN</td>\n",
       "      <td>NaN</td>\n",
       "      <td>NaN</td>\n",
       "      <td>33.8000</td>\n",
       "      <td>NaN</td>\n",
       "      <td>NaN</td>\n",
       "      <td>33.800000</td>\n",
       "      <td>NaN</td>\n",
       "      <td>NaN</td>\n",
       "    </tr>\n",
       "    <tr>\n",
       "      <th>54914</th>\n",
       "      <td>Architectural View of the Lama Temple Near Pekin</td>\n",
       "      <td>Felice Beato</td>\n",
       "      <td>416</td>\n",
       "      <td>(Italian, 1825–1903)</td>\n",
       "      <td>(Italian)</td>\n",
       "      <td>(1825)</td>\n",
       "      <td>(1903)</td>\n",
       "      <td>(Male)</td>\n",
       "      <td>October, 1860</td>\n",
       "      <td>Albumen silver print</td>\n",
       "      <td>...</td>\n",
       "      <td>http://www.moma.org/media/W1siZiIsIjE4MzkzOCJd...</td>\n",
       "      <td>NaN</td>\n",
       "      <td>NaN</td>\n",
       "      <td>NaN</td>\n",
       "      <td>29.0000</td>\n",
       "      <td>NaN</td>\n",
       "      <td>NaN</td>\n",
       "      <td>25.200000</td>\n",
       "      <td>NaN</td>\n",
       "      <td>NaN</td>\n",
       "    </tr>\n",
       "    <tr>\n",
       "      <th>92003</th>\n",
       "      <td>Any Magazine No. 18</td>\n",
       "      <td>Michael Rock, Susan Sellers, Georgianna Stout</td>\n",
       "      <td>31022, 31023, 33830</td>\n",
       "      <td>(American, born 1959) (American, born 1967) (A...</td>\n",
       "      <td>(American) (American) (American)</td>\n",
       "      <td>(1959) (1967) (1967)</td>\n",
       "      <td>(0) (0) (0)</td>\n",
       "      <td>(Male) (Female) (Female)</td>\n",
       "      <td>1997</td>\n",
       "      <td>Offset lithography</td>\n",
       "      <td>...</td>\n",
       "      <td>http://www.moma.org/media/W1siZiIsIjE3NTE0NyJd...</td>\n",
       "      <td>NaN</td>\n",
       "      <td>NaN</td>\n",
       "      <td>NaN</td>\n",
       "      <td>38.1001</td>\n",
       "      <td>NaN</td>\n",
       "      <td>NaN</td>\n",
       "      <td>27.940100</td>\n",
       "      <td>NaN</td>\n",
       "      <td>NaN</td>\n",
       "    </tr>\n",
       "    <tr>\n",
       "      <th>43819</th>\n",
       "      <td>UNTITLED (Kelp)</td>\n",
       "      <td>Paul Petricone</td>\n",
       "      <td>4581</td>\n",
       "      <td>(American, 1923–1988)</td>\n",
       "      <td>(American)</td>\n",
       "      <td>(1923)</td>\n",
       "      <td>(1988)</td>\n",
       "      <td>(Male)</td>\n",
       "      <td>1964</td>\n",
       "      <td>Gelatin silver print</td>\n",
       "      <td>...</td>\n",
       "      <td>NaN</td>\n",
       "      <td>NaN</td>\n",
       "      <td>NaN</td>\n",
       "      <td>NaN</td>\n",
       "      <td>19.0000</td>\n",
       "      <td>NaN</td>\n",
       "      <td>NaN</td>\n",
       "      <td>24.100000</td>\n",
       "      <td>NaN</td>\n",
       "      <td>NaN</td>\n",
       "    </tr>\n",
       "    <tr>\n",
       "      <th>115762</th>\n",
       "      <td>Archival envelope</td>\n",
       "      <td>Ben Kinmont</td>\n",
       "      <td>41829</td>\n",
       "      <td>(American, born 1963)</td>\n",
       "      <td>(American)</td>\n",
       "      <td>(1963)</td>\n",
       "      <td>(0)</td>\n",
       "      <td>(Male)</td>\n",
       "      <td>NaN</td>\n",
       "      <td>Archival envelope</td>\n",
       "      <td>...</td>\n",
       "      <td>NaN</td>\n",
       "      <td>NaN</td>\n",
       "      <td>NaN</td>\n",
       "      <td>NaN</td>\n",
       "      <td>NaN</td>\n",
       "      <td>NaN</td>\n",
       "      <td>NaN</td>\n",
       "      <td>NaN</td>\n",
       "      <td>NaN</td>\n",
       "      <td>NaN</td>\n",
       "    </tr>\n",
       "  </tbody>\n",
       "</table>\n",
       "<p>10 rows × 29 columns</p>\n",
       "</div>"
      ],
      "text/plain": [
       "                                                    Title  \\\n",
       "119862  Banco de la Ciudad de Buenos Aires – Casa Matr...   \n",
       "119157             Material Events from Performance Files   \n",
       "61685                                            Untitled   \n",
       "23893   AUGUST (headpiece, page 47) from ALMANACH DES ...   \n",
       "31725                                  Prostitute (Dirne)   \n",
       "44615                                          4th Action   \n",
       "54914    Architectural View of the Lama Temple Near Pekin   \n",
       "92003                                 Any Magazine No. 18   \n",
       "43819                                     UNTITLED (Kelp)   \n",
       "115762                                  Archival envelope   \n",
       "\n",
       "                                                   Artist  \\\n",
       "119862  Flora Manteola, Ignacio Petchersky, Javier Sán...   \n",
       "119157                                       Milan Knížák   \n",
       "61685                                   Varvara Stepanova   \n",
       "23893                                          Raoul Dufy   \n",
       "31725                                        Egon Schiele   \n",
       "44615             Rudolf Schwarzkogler, Franziska Krammel   \n",
       "54914                                        Felice Beato   \n",
       "92003       Michael Rock, Susan Sellers, Georgianna Stout   \n",
       "43819                                      Paul Petricone   \n",
       "115762                                        Ben Kinmont   \n",
       "\n",
       "                                  ConstituentID  \\\n",
       "119862  44160, 46152, 44161, 44162, 44163, 7229   \n",
       "119157                                    29427   \n",
       "61685                                      5643   \n",
       "23893                                      1646   \n",
       "31725                                      5215   \n",
       "44615                               7910, 39045   \n",
       "54914                                       416   \n",
       "92003                       31022, 31023, 33830   \n",
       "43819                                      4581   \n",
       "115762                                    41829   \n",
       "\n",
       "                                                ArtistBio  \\\n",
       "119862  (Argentine, born 1936) (Argentine) (Argentine,...   \n",
       "119157                                 (Czech, born 1940)   \n",
       "61685                                (Russian, 1894–1958)   \n",
       "23893                                 (French, 1877–1953)   \n",
       "31725                               (Austrian, 1890–1918)   \n",
       "44615                               (Austrian, 1940–1969)   \n",
       "54914                                (Italian, 1825–1903)   \n",
       "92003   (American, born 1959) (American, born 1967) (A...   \n",
       "43819                               (American, 1923–1988)   \n",
       "115762                              (American, born 1963)   \n",
       "\n",
       "                                              Nationality  \\\n",
       "119862  (Argentine) (Argentine) (Argentine) (Argentine...   \n",
       "119157                                            (Czech)   \n",
       "61685                                           (Russian)   \n",
       "23893                                            (French)   \n",
       "31725                                          (Austrian)   \n",
       "44615                                       (Austrian) ()   \n",
       "54914                                           (Italian)   \n",
       "92003                    (American) (American) (American)   \n",
       "43819                                          (American)   \n",
       "115762                                         (American)   \n",
       "\n",
       "                                     BeginDate                  EndDate  \\\n",
       "119862  (1936) (0) (1936) (1931) (1931) (1944)  (0) (0) (0) (0) (0) (0)   \n",
       "119157                                  (1940)                      (0)   \n",
       "61685                                   (1894)                   (1958)   \n",
       "23893                                   (1877)                   (1953)   \n",
       "31725                                   (1890)                   (1918)   \n",
       "44615                               (1940) (0)               (1969) (0)   \n",
       "54914                                   (1825)                   (1903)   \n",
       "92003                     (1959) (1967) (1967)              (0) (0) (0)   \n",
       "43819                                   (1923)                   (1988)   \n",
       "115762                                  (1963)                      (0)   \n",
       "\n",
       "                                               Gender           Date  \\\n",
       "119862  (Female) (Male) (Male) (Female) (Male) (Male)           1969   \n",
       "119157                                         (Male)           1977   \n",
       "61685                                        (Female)         (1922)   \n",
       "23893                                          (Male)           1917   \n",
       "31725                                          (Male)           1912   \n",
       "44615                                 (Male) (Female)    Summer 1965   \n",
       "54914                                          (Male)  October, 1860   \n",
       "92003                        (Male) (Female) (Female)           1997   \n",
       "43819                                          (Male)           1964   \n",
       "115762                                         (Male)            NaN   \n",
       "\n",
       "                                                   Medium  ...  \\\n",
       "119862        Pencil, ink, Letraset and collage on vellum  ...   \n",
       "119157  Envelope, photocopy, and nine gelatin silver p...  ...   \n",
       "61685                                             Linocut  ...   \n",
       "23893                                                 NaN  ...   \n",
       "31725                      Watercolor and pencil on paper  ...   \n",
       "44615                  Gelatin silver print, printed 1982  ...   \n",
       "54914                                Albumen silver print  ...   \n",
       "92003                                  Offset lithography  ...   \n",
       "43819                                Gelatin silver print  ...   \n",
       "115762                                  Archival envelope  ...   \n",
       "\n",
       "                                             ThumbnailURL Circumference (cm)  \\\n",
       "119862                                                NaN                NaN   \n",
       "119157  http://www.moma.org/media/W1siZiIsIjI5NDgzNiJd...                NaN   \n",
       "61685   http://www.moma.org/media/W1siZiIsIjE5MTQ4OCJd...                NaN   \n",
       "23893                                                 NaN                NaN   \n",
       "31725   http://www.moma.org/media/W1siZiIsIjEyMjAxMiJd...                NaN   \n",
       "44615                                                 NaN                NaN   \n",
       "54914   http://www.moma.org/media/W1siZiIsIjE4MzkzOCJd...                NaN   \n",
       "92003   http://www.moma.org/media/W1siZiIsIjE3NTE0NyJd...                NaN   \n",
       "43819                                                 NaN                NaN   \n",
       "115762                                                NaN                NaN   \n",
       "\n",
       "       Depth (cm) Diameter (cm) Height (cm) Length (cm) Weight (kg)  \\\n",
       "119862        NaN           NaN     47.0000         NaN         NaN   \n",
       "119157        0.0           NaN      0.0000         NaN         NaN   \n",
       "61685         NaN           NaN      9.2000         NaN         NaN   \n",
       "23893         NaN           NaN      3.5000         NaN         NaN   \n",
       "31725         NaN           NaN     48.3000         NaN         NaN   \n",
       "44615         NaN           NaN     33.8000         NaN         NaN   \n",
       "54914         NaN           NaN     29.0000         NaN         NaN   \n",
       "92003         NaN           NaN     38.1001         NaN         NaN   \n",
       "43819         NaN           NaN     19.0000         NaN         NaN   \n",
       "115762        NaN           NaN         NaN         NaN         NaN   \n",
       "\n",
       "        Width (cm) Seat Height (cm) Duration (sec.)  \n",
       "119862  131.000000              NaN             NaN  \n",
       "119157    0.000000              NaN             NaN  \n",
       "61685     6.100000              NaN             NaN  \n",
       "23893     8.900000              NaN             NaN  \n",
       "31725    31.750064              NaN             NaN  \n",
       "44615    33.800000              NaN             NaN  \n",
       "54914    25.200000              NaN             NaN  \n",
       "92003    27.940100              NaN             NaN  \n",
       "43819    24.100000              NaN             NaN  \n",
       "115762         NaN              NaN             NaN  \n",
       "\n",
       "[10 rows x 29 columns]"
      ]
     },
     "execution_count": 5,
     "metadata": {},
     "output_type": "execute_result"
    }
   ],
   "source": [
    "artworks_df.sample(10)"
   ]
  },
  {
   "cell_type": "markdown",
   "id": "d14c4c08",
   "metadata": {},
   "source": [
    "#### Generate information about all the columns in the data "
   ]
  },
  {
   "cell_type": "code",
   "execution_count": 6,
   "id": "d6e35d36",
   "metadata": {
    "scrolled": true
   },
   "outputs": [
    {
     "name": "stdout",
     "output_type": "stream",
     "text": [
      "<class 'pandas.core.frame.DataFrame'>\n",
      "RangeIndex: 129241 entries, 0 to 129240\n",
      "Data columns (total 29 columns):\n",
      " #   Column              Non-Null Count   Dtype  \n",
      "---  ------              --------------   -----  \n",
      " 0   Title               129189 non-null  object \n",
      " 1   Artist              127839 non-null  object \n",
      " 2   ConstituentID       127839 non-null  object \n",
      " 3   ArtistBio           124661 non-null  object \n",
      " 4   Nationality         127839 non-null  object \n",
      " 5   BeginDate           127839 non-null  object \n",
      " 6   EndDate             127839 non-null  object \n",
      " 7   Gender              127839 non-null  object \n",
      " 8   Date                126974 non-null  object \n",
      " 9   Medium              117280 non-null  object \n",
      " 10  Dimensions          117050 non-null  object \n",
      " 11  CreditLine          126167 non-null  object \n",
      " 12  AccessionNumber     129241 non-null  object \n",
      " 13  Classification      129241 non-null  object \n",
      " 14  Department          129241 non-null  object \n",
      " 15  DateAcquired        124012 non-null  object \n",
      " 16  Cataloged           129241 non-null  object \n",
      " 17  ObjectID            129241 non-null  int64  \n",
      " 18  URL                 70057 non-null   object \n",
      " 19  ThumbnailURL        59205 non-null   object \n",
      " 20  Circumference (cm)  10 non-null      float64\n",
      " 21  Depth (cm)          11150 non-null   float64\n",
      " 22  Diameter (cm)       1398 non-null    float64\n",
      " 23  Height (cm)         110993 non-null  float64\n",
      " 24  Length (cm)         670 non-null     float64\n",
      " 25  Weight (kg)         298 non-null     float64\n",
      " 26  Width (cm)          110040 non-null  float64\n",
      " 27  Seat Height (cm)    0 non-null       float64\n",
      " 28  Duration (sec.)     3080 non-null    float64\n",
      "dtypes: float64(9), int64(1), object(19)\n",
      "memory usage: 28.6+ MB\n"
     ]
    }
   ],
   "source": [
    "artworks_df.info()"
   ]
  },
  {
   "cell_type": "markdown",
   "id": "ace327c9",
   "metadata": {},
   "source": [
    "## Dataset Exploration Time"
   ]
  },
  {
   "cell_type": "markdown",
   "id": "64348664",
   "metadata": {},
   "source": [
    "#### How many artworks by Vincent van Gogh is in this collection?"
   ]
  },
  {
   "cell_type": "markdown",
   "id": "0f2048f3",
   "metadata": {},
   "source": [
    "Define Vincent van Gogh artworks"
   ]
  },
  {
   "cell_type": "code",
   "execution_count": 7,
   "id": "96a16a92",
   "metadata": {
    "scrolled": true
   },
   "outputs": [
    {
     "name": "stdout",
     "output_type": "stream",
     "text": [
      "                                          Title            Artist  \\\n",
      "60908                         The Potato Eaters  Vincent van Gogh   \n",
      "62806                                    Sorrow  Vincent van Gogh   \n",
      "66931  Portrait of Dr. Gachet (Man with a Pipe)  Vincent van Gogh   \n",
      "73554                 Portrait of Joseph Roulin  Vincent van Gogh   \n",
      "74106                          The Starry Night  Vincent van Gogh   \n",
      "\n",
      "      ConstituentID           ArtistBio Nationality BeginDate EndDate  Gender  \\\n",
      "60908          2206  (Dutch, 1853–1890)     (Dutch)    (1853)  (1890)  (Male)   \n",
      "62806          2206  (Dutch, 1853–1890)     (Dutch)    (1853)  (1890)  (Male)   \n",
      "66931          2206  (Dutch, 1853–1890)     (Dutch)    (1853)  (1890)  (Male)   \n",
      "73554          2206  (Dutch, 1853–1890)     (Dutch)    (1853)  (1890)  (Male)   \n",
      "74106          2206  (Dutch, 1853–1890)     (Dutch)    (1853)  (1890)  (Male)   \n",
      "\n",
      "                        Date         Medium  ...  \\\n",
      "60908          (April, 1885)     Lithograph  ...   \n",
      "62806          November 1882     Lithograph  ...   \n",
      "66931           May 15, 1890        Etching  ...   \n",
      "73554      Arles, early 1889  Oil on canvas  ...   \n",
      "74106  Saint Rémy, June 1889  Oil on canvas  ...   \n",
      "\n",
      "                                            ThumbnailURL Circumference (cm)  \\\n",
      "60908  http://www.moma.org/media/W1siZiIsIjEzMzcxOCJd...                NaN   \n",
      "62806  http://www.moma.org/media/W1siZiIsIjIxMTA5MiJd...                NaN   \n",
      "66931  http://www.moma.org/media/W1siZiIsIjIxMjIyOSJd...                NaN   \n",
      "73554  http://www.moma.org/media/W1siZiIsIjgwNzU2Il0s...                NaN   \n",
      "74106  http://www.moma.org/media/W1siZiIsIjEzMzA3NSJd...                NaN   \n",
      "\n",
      "      Depth (cm) Diameter (cm) Height (cm) Length (cm) Weight (kg)  \\\n",
      "60908        NaN           NaN        21.5         NaN         NaN   \n",
      "62806        NaN           NaN        39.1         NaN         NaN   \n",
      "66931        NaN           NaN        18.1         NaN         NaN   \n",
      "73554        NaN           NaN        64.5         NaN         NaN   \n",
      "74106        NaN           NaN        73.7         NaN         NaN   \n",
      "\n",
      "       Width (cm) Seat Height (cm) Duration (sec.)  \n",
      "60908        31.4              NaN             NaN  \n",
      "62806        29.9              NaN             NaN  \n",
      "66931        15.1              NaN             NaN  \n",
      "73554        55.2              NaN             NaN  \n",
      "74106        92.1              NaN             NaN  \n",
      "\n",
      "[5 rows x 29 columns]\n"
     ]
    }
   ],
   "source": [
    "van_gogh_artworks = artworks_df[artworks_df['Artist'].str.contains('Vincent van Gogh', na=False)]\n",
    "\n",
    "print(van_gogh_artworks.head())"
   ]
  },
  {
   "cell_type": "markdown",
   "id": "5ad2ec78",
   "metadata": {},
   "source": [
    "#### Cool! Now, which artworks by Yayoi Kusama is in MoMA collection? But let's just see the artworks title."
   ]
  },
  {
   "cell_type": "markdown",
   "id": "8721d39b",
   "metadata": {},
   "source": [
    "Define Yayoi Kusama artworks"
   ]
  },
  {
   "cell_type": "code",
   "execution_count": 8,
   "id": "b35bf463",
   "metadata": {},
   "outputs": [
    {
     "name": "stdout",
     "output_type": "stream",
     "text": [
      "                               Title                                   Artist\n",
      "32858           Accumulation No. 18a                             Yayoi Kusama\n",
      "33363                       Untitled                             Yayoi Kusama\n",
      "33369                         Flower                             Yayoi Kusama\n",
      "33535                       Untitled                             Yayoi Kusama\n",
      "33539                       Untitled                             Yayoi Kusama\n",
      "...                              ...                                      ...\n",
      "118728  Mirror Performance, New York  Yayoi Kusama, Harry Shunk, János Kender\n",
      "118729  Mirror Performance, New York  Yayoi Kusama, Harry Shunk, János Kender\n",
      "118730  Mirror Performance, New York  Yayoi Kusama, Harry Shunk, János Kender\n",
      "118731  Mirror Performance, New York  Yayoi Kusama, Harry Shunk, János Kender\n",
      "118732  Mirror Performance, New York  Yayoi Kusama, Harry Shunk, János Kender\n",
      "\n",
      "[113 rows x 2 columns]\n"
     ]
    }
   ],
   "source": [
    "yayoi_kusama_artworks = artworks_df[artworks_df['Artist'].str.contains('Yayoi Kusama', na=False)]\n",
    "\n",
    "yayoi_kusama_titles_artists = yayoi_kusama_artworks[['Title', 'Artist']]\n",
    "\n",
    "print(yayoi_kusama_titles_artists)"
   ]
  },
  {
   "cell_type": "markdown",
   "id": "d3e2ad7f",
   "metadata": {},
   "source": [
    "#### That's a lot! Let's further explore. How many artworks by female artists compare to artworks by male artists in the MoMA Collection? "
   ]
  },
  {
   "cell_type": "code",
   "execution_count": 9,
   "id": "55767488",
   "metadata": {},
   "outputs": [
    {
     "name": "stdout",
     "output_type": "stream",
     "text": [
      "(Male)                                                                                                                                                                                                               99381\n",
      "(Female)                                                                                                                                                                                                             16064\n",
      "()                                                                                                                                                                                                                    6064\n",
      "(Male) (Male)                                                                                                                                                                                                         1640\n",
      "(Male) (Male) (Male)                                                                                                                                                                                                   915\n",
      "                                                                                                                                                                                                                     ...  \n",
      "() (Male) (Male) (Male) (Male) (Male) (Male) (Male) (Male) (Male) (Male) (Male) (Male) (Male) (Female) (Male) (Male) (Female) (Male) (Male) (Male) (Male) (Male) (Male) (Male) (Male) (Male) (Male) (Male) (Male)        1\n",
      "() (Female) (Female) (Male) (Male) (Male) (Male)                                                                                                                                                                         1\n",
      "() (Male) (Male) (Male) (Male) (Male) (Female) (Male) (Male) (Male) (Male)                                                                                                                                               1\n",
      "() (Female) (Female) (Female) (Male) (Male) (Male) (Male) (Female) (Male) (Male) (Male)                                                                                                                                  1\n",
      "() (Male) (Female) (Female) (Female) (Male) (Female) () (Male) (Male) (Female)                                                                                                                                           1\n",
      "Name: Gender, Length: 333, dtype: int64\n"
     ]
    }
   ],
   "source": [
    "gender_counts = artworks_df['Gender'].value_counts()\n",
    "\n",
    "print(gender_counts)"
   ]
  },
  {
   "cell_type": "markdown",
   "id": "aeadca36",
   "metadata": {},
   "source": [
    "#### Wow! Such a huge gap. Let's view this in a bar graph to see how big is the difference visually. However, the 'Gender' column in this dataset is complex, so let's simplify. "
   ]
  },
  {
   "cell_type": "code",
   "execution_count": 10,
   "id": "5f56eaf7",
   "metadata": {},
   "outputs": [],
   "source": [
    "def classify_gender(gender_column):\n",
    "    if pd.isna(gender_column):\n",
    "        return 'Unknown'\n",
    "    if '(Female)' in gender_column:\n",
    "        if '(Male)' in gender_column:\n",
    "            return 'Mixed/Other'\n",
    "        return 'Female'\n",
    "    if '(Male)' in gender_column:\n",
    "        return 'Male'\n",
    "    return 'Unknown'"
   ]
  },
  {
   "cell_type": "markdown",
   "id": "a187403f",
   "metadata": {},
   "source": [
    "#### Now, let's count the different number of artworks using the new gender classification."
   ]
  },
  {
   "cell_type": "code",
   "execution_count": 87,
   "id": "3473b4bf",
   "metadata": {
    "scrolled": true
   },
   "outputs": [
    {
     "name": "stdout",
     "output_type": "stream",
     "text": [
      "Male           103213\n",
      "Female          16264\n",
      "Unknown          7667\n",
      "Mixed/Other      2097\n",
      "Name: Gender_Classification, dtype: int64\n"
     ]
    }
   ],
   "source": [
    "artworks_df['Gender_Classification'] = artworks_df['Gender'].apply(classify_gender)\n",
    "\n",
    "gender_counts = artworks_df['Gender_Classification'].value_counts()\n",
    "\n",
    "print(gender_counts)"
   ]
  },
  {
   "cell_type": "markdown",
   "id": "c7d6ce58",
   "metadata": {},
   "source": [
    "#### Create the visualization!"
   ]
  },
  {
   "cell_type": "code",
   "execution_count": 88,
   "id": "55937195",
   "metadata": {
    "scrolled": true
   },
   "outputs": [
    {
     "data": {
      "image/png": "[encoded data removed]",
      "text/plain": [
       "<Figure size 1000x500 with 1 Axes>"
      ]
     },
     "metadata": {},
     "output_type": "display_data"
    }
   ],
   "source": [
    "import matplotlib.pyplot as plt\n",
    "\n",
    "plt.figure(figsize=(10, 5))\n",
    "plt.bar(gender_counts.index, gender_counts.values, color=['blue', 'pink', 'green'])\n",
    "\n",
    "plt.xlabel('Gender Category')\n",
    "plt.ylabel('Number of Artworks')\n",
    "plt.title('Number of Artworks by Gender Category')\n",
    "\n",
    "plt.show()"
   ]
  }
 ],
 "metadata": {
  "kernelspec": {
   "display_name": "Python 3 (ipykernel)",
   "language": "python",
   "name": "python3"
  },
  "language_info": {
   "codemirror_mode": {
    "name": "ipython",
    "version": 3
   },
   "file_extension": ".py",
   "mimetype": "text/x-python",
   "name": "python",
   "nbconvert_exporter": "python",
   "pygments_lexer": "ipython3",
   "version": "3.11.4"
  }
 },
 "nbformat": 4,
 "nbformat_minor": 5
}
